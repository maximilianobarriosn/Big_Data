{
 "cells": [
  {
   "cell_type": "markdown",
   "id": "9a69d68f",
   "metadata": {},
   "source": [
    "### Imports"
   ]
  },
  {
   "cell_type": "code",
   "execution_count": null,
   "id": "2f7c6a0c",
   "metadata": {},
   "outputs": [],
   "source": [
    "from google.cloud import bigquery\n",
    "import io\n",
    "import json"
   ]
  },
  {
   "cell_type": "markdown",
   "id": "e0af8fc2",
   "metadata": {},
   "source": [
    "### Big Query Client - Create Table"
   ]
  },
  {
   "cell_type": "code",
   "execution_count": null,
   "id": "1fbb905c",
   "metadata": {},
   "outputs": [],
   "source": [
    "bq_client = bigquery.Client()\n",
    "project_id = '<<PROJECT_ID>>'\n",
    "dataset_id = '<<DATASET_ID>>'\n",
    "table_id = 'titanic_survived'\n",
    "location = 'us-central1'"
   ]
  },
  {
   "cell_type": "code",
   "execution_count": null,
   "id": "5e806769",
   "metadata": {},
   "outputs": [],
   "source": [
    "schema = [\n",
    "    bigquery.SchemaField(\"full_name\", \"STRING\", mode=\"REQUIRED\"),\n",
    "    bigquery.SchemaField(\"ssn\", \"INTEGER\", mode=\"REQUIRED\"),\n",
    "    bigquery.SchemaField(\"email\", \"STRING\", mode=\"REQUIRED\"),\n",
    "    bigquery.SchemaField(\"neighborhood\", \"STRING\", mode=\"REQUIRED\"),\n",
    "]\n",
    "\n",
    "fully_qualified_id = '{}'.format(project_id +'.'+ dataset_id +'.'+ table_id)\n",
    "table = bigquery.Table(fully_qualified_id, schema=schema)\n",
    "table = bq_client.create_table(table)  # Make an API request.\n",
    "print(\n",
    "    \"Created table {}.{}.{}\".format(table.project, table.dataset_id, table.table_id)\n",
    ")"
   ]
  },
  {
   "cell_type": "code",
   "execution_count": null,
   "id": "47745db2",
   "metadata": {},
   "outputs": [],
   "source": [
    "rows_to_insert = [\n",
    "    {u\"full_name\": u\"Pedro Sanchez\", u\"ssn\": 12345678, u\"email\": u\"pedrosanchez@google.com\", u\"neighborhood\": u\"Liniers\"},\n",
    "    {u\"full_name\": u\"Pablo Perez\", u\"ssn\": 87654321, u\"email\": \"pabloperez@google.com\", u\"neighborhood\": u\"Mataderos\"},\n",
    "    {u\"full_name\": u\"Georgina Azul\", u\"ssn\": 65498721, u\"email\": \"georginaazul@google.com\", u\"neighborhood\": u\"Palermo\"},\n",
    "    {u\"full_name\": u\"Pepe Perez\", u\"ssn\": 12387694, u\"email\": \"pepeperez@google.com\", u\"neighborhood\": u\"Huechuraba\"}\n",
    "]"
   ]
  },
  {
   "cell_type": "code",
   "execution_count": null,
   "id": "2dcdbf60",
   "metadata": {},
   "outputs": [],
   "source": [
    "errors = bq_client.insert_rows_json(fully_qualified_id, rows_to_insert)  # Make an API request.\n",
    "if errors == []:\n",
    "    print(\"New rows have been added.\")\n",
    "else:\n",
    "    print(\"Encountered errors while inserting rows: {}\".format(errors))"
   ]
  },
  {
   "cell_type": "markdown",
   "id": "bbca7b63",
   "metadata": {},
   "source": [
    "### Big Query Client - Get Table Schema"
   ]
  },
  {
   "cell_type": "code",
   "execution_count": null,
   "id": "a46c6277",
   "metadata": {},
   "outputs": [],
   "source": [
    "dataset_ref = bq_client.dataset(dataset_id, project=project_id)\n",
    "table_ref = dataset_ref.table(table_id)\n",
    "table = bq_client.get_table(table_ref)\n",
    "taxonomy_parent = \"projects/<<PROJECT_ID>>/locations/us\""
   ]
  },
  {
   "cell_type": "code",
   "execution_count": null,
   "id": "897df07f",
   "metadata": {},
   "outputs": [],
   "source": [
    "f = io.StringIO(\"\")\n",
    "bq_client.schema_to_json(table.schema, f)\n",
    "jeison = json.loads(f.getvalue())"
   ]
  },
  {
   "cell_type": "code",
   "execution_count": null,
   "id": "9e57c608",
   "metadata": {},
   "outputs": [],
   "source": [
    "jeison"
   ]
  },
  {
   "cell_type": "markdown",
   "id": "c142622e",
   "metadata": {},
   "source": [
    "### Credentials"
   ]
  },
  {
   "cell_type": "code",
   "execution_count": null,
   "id": "a3644cb4",
   "metadata": {},
   "outputs": [],
   "source": [
    "from google.oauth2 import service_account\n",
    "key_path = \"./<<PROJECT_ID>>-<<KEY-FOR-CREDENTIAL>>.json\"\n",
    "credentials = service_account.Credentials.from_service_account_file(\n",
    "    key_path,\n",
    "    scopes=[\"https://www.googleapis.com/auth/cloud-platform\"],\n",
    ")"
   ]
  },
  {
   "cell_type": "markdown",
   "id": "dec32748",
   "metadata": {},
   "source": [
    "### Data Catalog - Taxonomy Creation"
   ]
  },
  {
   "cell_type": "code",
   "execution_count": null,
   "id": "f70f8c0f",
   "metadata": {},
   "outputs": [],
   "source": [
    "#!pip install google-cloud-datacatalog\n",
    "from google.cloud import datacatalog\n",
    "from google.cloud.datacatalog_v1beta1 import PolicyTagManagerClient, types"
   ]
  },
  {
   "cell_type": "code",
   "execution_count": null,
   "id": "148900c1",
   "metadata": {},
   "outputs": [],
   "source": [
    "client = PolicyTagManagerClient(credentials = credentials)"
   ]
  },
  {
   "cell_type": "code",
   "execution_count": null,
   "id": "5a97b2fe",
   "metadata": {},
   "outputs": [],
   "source": [
    "obj_taxonomy = types.Taxonomy()\n",
    "obj_taxonomy.display_name = 'PII'"
   ]
  },
  {
   "cell_type": "code",
   "execution_count": null,
   "id": "d368c381",
   "metadata": {},
   "outputs": [],
   "source": [
    "taxonomy_response = client.create_taxonomy(parent=taxonomy_parent, taxonomy=obj_taxonomy)"
   ]
  },
  {
   "cell_type": "markdown",
   "id": "489b078f",
   "metadata": {},
   "source": [
    "### Data Catalog - Policy Tags Creation"
   ]
  },
  {
   "cell_type": "code",
   "execution_count": null,
   "id": "c441020d",
   "metadata": {},
   "outputs": [],
   "source": [
    "obj_PolicyTag_HIGH = types.PolicyTag()\n",
    "obj_PolicyTag_HIGH.display_name= \"HIGH\"\n",
    "policy_HIGH_response = client.create_policy_tag(parent=taxonomy_response.name, policy_tag=obj_PolicyTag_HIGH)"
   ]
  },
  {
   "cell_type": "code",
   "execution_count": null,
   "id": "0eb97f15",
   "metadata": {},
   "outputs": [],
   "source": [
    "obj_PolicyTag_MEDIUM = types.PolicyTag()\n",
    "obj_PolicyTag_MEDIUM.display_name= \"MEDIUM\"\n",
    "policy_MEDIUM_response = client.create_policy_tag(parent=taxonomy_response.name, policy_tag=obj_PolicyTag_MEDIUM)"
   ]
  },
  {
   "cell_type": "code",
   "execution_count": null,
   "id": "e19c8770",
   "metadata": {},
   "outputs": [],
   "source": [
    "obj_PolicyTag_SSN = types.PolicyTag()\n",
    "obj_PolicyTag_SSN.display_name= \"SSN\"\n",
    "obj_PolicyTag_SSN.parent_policy_tag = policy_HIGH_response.name\n",
    "policy_SSN_response = client.create_policy_tag(parent=taxonomy_response.name, policy_tag=obj_PolicyTag_SSN)"
   ]
  },
  {
   "cell_type": "code",
   "execution_count": null,
   "id": "2db2fdbc",
   "metadata": {},
   "outputs": [],
   "source": [
    "obj_PolicyTag_EMAIL = types.PolicyTag()\n",
    "obj_PolicyTag_EMAIL.display_name= \"EMAIL\"\n",
    "obj_PolicyTag_EMAIL.parent_policy_tag = policy_MEDIUM_response.name\n",
    "policy_EMAIL_response = client.create_policy_tag(parent=taxonomy_response.name, policy_tag=obj_PolicyTag_EMAIL)"
   ]
  },
  {
   "cell_type": "markdown",
   "id": "5aa6b22e",
   "metadata": {},
   "source": [
    "### Data Catalog - Get Taxonomies and Policy Tags ID"
   ]
  },
  {
   "cell_type": "code",
   "execution_count": null,
   "id": "ffa5244f",
   "metadata": {},
   "outputs": [],
   "source": [
    "taxonomy_to_search = obj_taxonomy.display_name\n",
    "policy_tag_to_search = 'Restricted'\n",
    "column_to_attach_policy_tag = 'total'"
   ]
  },
  {
   "cell_type": "code",
   "execution_count": null,
   "id": "cee9411a",
   "metadata": {},
   "outputs": [],
   "source": [
    "taxonomy_instance = \"\"\n",
    "taxonomy_list = client.list_taxonomies(parent=taxonomy_parent)\n",
    "for taxonomy in taxonomy_list:\n",
    "    if (taxonomy.display_name == taxonomy_to_search):\n",
    "        taxonomy_instance = taxonomy\n",
    "\n",
    "if not taxonomy_instance:\n",
    "    print(\"Taxonomy specified does not exist\")\n",
    "else:\n",
    "    print(taxonomy_instance.name)"
   ]
  },
  {
   "cell_type": "code",
   "execution_count": null,
   "id": "10f3c179",
   "metadata": {},
   "outputs": [],
   "source": [
    "policy_tag_instance = \"\"\n",
    "policy_tags_list = client.list_policy_tags(parent=taxonomy_instance.name)\n",
    "for policy_tag in policy_tags_list:\n",
    "    if (policy_tag.display_name == policy_tag_to_search):\n",
    "        policy_tag_instance = policy_tag\n",
    "\n",
    "if not policy_tag_instance:\n",
    "    print(\"Policy Tag specified does not exist\")\n",
    "else:\n",
    "    print(policy_tag_instance.name)"
   ]
  },
  {
   "cell_type": "markdown",
   "id": "3fcfff8e",
   "metadata": {},
   "source": [
    "### Big Query Schema Update"
   ]
  },
  {
   "cell_type": "code",
   "execution_count": null,
   "id": "ce475e59",
   "metadata": {},
   "outputs": [],
   "source": [
    "policy_tag_instance.name"
   ]
  },
  {
   "cell_type": "code",
   "execution_count": null,
   "id": "ad2cdf79",
   "metadata": {},
   "outputs": [],
   "source": [
    "from googleapiclient import discovery\n",
    "bigquery_api = discovery.build('bigquery', 'v2', credentials=credentials)"
   ]
  },
  {
   "cell_type": "code",
   "execution_count": null,
   "id": "3904ea47",
   "metadata": {},
   "outputs": [],
   "source": [
    "jeison"
   ]
  },
  {
   "cell_type": "code",
   "execution_count": null,
   "id": "678171af",
   "metadata": {},
   "outputs": [],
   "source": [
    "for element in jeison:\n",
    "    if element['name'] == column_to_attach_policy_tag:\n",
    "        element['policyTags'] = {'names': [policy_tag_instance.name]}"
   ]
  },
  {
   "cell_type": "code",
   "execution_count": null,
   "id": "60d42b57",
   "metadata": {},
   "outputs": [],
   "source": [
    "tables = bigquery_api.tables()"
   ]
  },
  {
   "cell_type": "code",
   "execution_count": null,
   "id": "b906fd79",
   "metadata": {},
   "outputs": [],
   "source": [
    "jeison = {'schema': {'fields': jeison}}"
   ]
  },
  {
   "cell_type": "code",
   "execution_count": null,
   "id": "c2fad88f",
   "metadata": {},
   "outputs": [],
   "source": [
    "jeison"
   ]
  },
  {
   "cell_type": "code",
   "execution_count": null,
   "id": "f34ba143",
   "metadata": {},
   "outputs": [],
   "source": [
    "tables.patch(projectId=project_id, datasetId=dataset_id, tableId=table_id, body=jeison).execute()"
   ]
  },
  {
   "cell_type": "markdown",
   "id": "3de650de",
   "metadata": {},
   "source": [
    "### IAM Policy"
   ]
  },
  {
   "cell_type": "code",
   "execution_count": null,
   "id": "c8d9287b",
   "metadata": {},
   "outputs": [],
   "source": [
    "policy_tag_instance.name"
   ]
  },
  {
   "cell_type": "code",
   "execution_count": null,
   "id": "25dc8aa8",
   "metadata": {},
   "outputs": [],
   "source": [
    "iam_dc = {\n",
    "   \"resource\":policy_tag_instance.name,\n",
    "   \"policy\":{\n",
    "      \"bindings\":[\n",
    "         {\n",
    "            \"role\":\"roles/datacatalog.categoryFineGrainedReader\",\n",
    "            \"members\":[\n",
    "               \"user:example@gmail.com\"\n",
    "            ]\n",
    "         }\n",
    "      ]\n",
    "   }\n",
    "}"
   ]
  },
  {
   "cell_type": "code",
   "execution_count": null,
   "id": "77c57210",
   "metadata": {},
   "outputs": [],
   "source": [
    "client.set_iam_policy(iam_dc)"
   ]
  },
  {
   "cell_type": "markdown",
   "id": "b44aadd3",
   "metadata": {},
   "source": [
    "### Data Catalog - Create Tag Template"
   ]
  },
  {
   "cell_type": "code",
   "execution_count": null,
   "id": "bb4a54f2",
   "metadata": {},
   "outputs": [],
   "source": [
    "from google.cloud import datacatalog_v1\n",
    "tag_template = datacatalog_v1.types.TagTemplate()\n",
    "datacatalog_client = datacatalog_v1.DataCatalogClient()"
   ]
  },
  {
   "cell_type": "code",
   "execution_count": null,
   "id": "8f448d41",
   "metadata": {},
   "outputs": [],
   "source": [
    "tag_template.display_name = 'Demo Tag Template'\n",
    "\n",
    "tag_template.fields['source'] = datacatalog_v1.types.TagTemplateField()\n",
    "tag_template.fields['source'].display_name = 'Source of data asset'\n",
    "tag_template.fields['source'].type_.primitive_type = datacatalog_v1.types.FieldType.PrimitiveType.STRING\n",
    "\n",
    "tag_template.fields['num_rows'] = datacatalog_v1.types.TagTemplateField()\n",
    "tag_template.fields['num_rows'].display_name = 'Number of rows in data asset'\n",
    "tag_template.fields['num_rows'].type_.primitive_type = datacatalog_v1.types.FieldType.PrimitiveType.DOUBLE\n",
    "\n",
    "tag_template.fields['has_pii'] = datacatalog_v1.types.TagTemplateField()\n",
    "tag_template.fields['has_pii'].display_name = 'Has PII'\n",
    "tag_template.fields['has_pii'].type_.primitive_type = datacatalog_v1.types.FieldType.PrimitiveType.BOOL"
   ]
  },
  {
   "cell_type": "code",
   "execution_count": null,
   "id": "83857d7c",
   "metadata": {},
   "outputs": [],
   "source": [
    "expected_template_name = datacatalog_v1.DataCatalogClient.tag_template_path(project_id, location, 'example_tag_template')"
   ]
  },
  {
   "cell_type": "code",
   "execution_count": null,
   "id": "891ffa83",
   "metadata": {},
   "outputs": [],
   "source": [
    "# Delete any pre-existing Template with the same name.\n",
    "try:\n",
    "    datacatalog_client.delete_tag_template(name=expected_template_name, force=True)\n",
    "    print('Deleted template: {}'.format(expected_template_name))\n",
    "except:\n",
    "    print('Cannot delete template: {}'.format(expected_template_name))\n",
    "\n",
    "# Create the Tag Template.\n",
    "try:\n",
    "    tag_template = datacatalog_client.create_tag_template(\n",
    "        parent='projects/{}/locations/us-central1'.format(project_id),\n",
    "        tag_template_id='example_tag_template',\n",
    "        tag_template=tag_template)\n",
    "    print('Created template: {}'.format(tag_template.name))\n",
    "except OSError as e:\n",
    "    print('Cannot create template: {}'.format(expected_template_name))\n",
    "    print('{}'.format(e))"
   ]
  },
  {
   "cell_type": "markdown",
   "id": "2952e16a",
   "metadata": {},
   "source": [
    "### Search Data Catalog Entry"
   ]
  },
  {
   "cell_type": "code",
   "execution_count": null,
   "id": "1d73238d",
   "metadata": {},
   "outputs": [],
   "source": [
    "resource_name = '//bigquery.googleapis.com/projects/{}' \\\n",
    "                '/datasets/{}/tables/{}'.format(project_id, dataset_id, table_id)\n",
    "table_entry = datacatalog_client.lookup_entry(request={\"linked_resource\": resource_name})"
   ]
  },
  {
   "cell_type": "markdown",
   "id": "0ff7b8a7",
   "metadata": {},
   "source": [
    "### Attach Tag to Data Catalog Entry"
   ]
  },
  {
   "cell_type": "code",
   "execution_count": null,
   "id": "c3b40887",
   "metadata": {},
   "outputs": [],
   "source": [
    "tag = datacatalog_v1.types.Tag()\n",
    "\n",
    "tag.template = tag_template.name\n",
    "tag.name=\"my_tag\"\n",
    "\n",
    "tag.fields['source'] = datacatalog_v1.types.TagField()\n",
    "tag.fields['source'].string_value = 'Hand-made example'\n",
    "\n",
    "tag.fields['num_rows'] = datacatalog_v1.types.TagField()\n",
    "tag.fields['num_rows'].double_value = 4\n",
    "\n",
    "tag.fields['has_pii'] = datacatalog_v1.types.TagField()\n",
    "tag.fields['has_pii'].bool_value = True\n",
    "\n",
    "tag = datacatalog_client.create_tag(parent=table_entry.name, tag=tag)\n",
    "print('Created tag: {}'.format(tag.name))"
   ]
  },
  {
   "cell_type": "markdown",
   "id": "930290ea",
   "metadata": {},
   "source": [
    "### Search Existent Tag Template"
   ]
  },
  {
   "cell_type": "code",
   "execution_count": null,
   "id": "7c1d49ae",
   "metadata": {},
   "outputs": [],
   "source": [
    "scope = datacatalog.SearchCatalogRequest.Scope()\n",
    "scope.include_project_ids.append(project_id)"
   ]
  },
  {
   "cell_type": "code",
   "execution_count": null,
   "id": "f509e82f",
   "metadata": {},
   "outputs": [],
   "source": [
    "tag_template_name_search = 'example_tag_template'\n",
    "name='projects/{}/locations/us-central1/tagTemplates/{}'.format(project_id,tag_template_name_search)"
   ]
  },
  {
   "cell_type": "code",
   "execution_count": null,
   "id": "099b223a",
   "metadata": {},
   "outputs": [],
   "source": [
    "search_tag_template = datacatalog_client.get_tag_template(name=name)"
   ]
  },
  {
   "cell_type": "code",
   "execution_count": null,
   "id": "1acef15a",
   "metadata": {},
   "outputs": [],
   "source": [
    "search_tag_template"
   ]
  },
  {
   "cell_type": "markdown",
   "id": "926c941c",
   "metadata": {},
   "source": [
    "### Search Catalog"
   ]
  },
  {
   "cell_type": "code",
   "execution_count": null,
   "id": "35a5fffe",
   "metadata": {},
   "outputs": [],
   "source": [
    "search_result = datacatalog_client.search_catalog(scope=scope, query='tag:example_tag_template.has_pii=False')"
   ]
  },
  {
   "cell_type": "code",
   "execution_count": null,
   "id": "a3355500",
   "metadata": {},
   "outputs": [],
   "source": [
    "search_result"
   ]
  },
  {
   "cell_type": "code",
   "execution_count": null,
   "id": "0793c5d1",
   "metadata": {},
   "outputs": [],
   "source": [
    "search_result = datacatalog_client.search_catalog(scope=scope, query='customers')"
   ]
  },
  {
   "cell_type": "code",
   "execution_count": null,
   "id": "c1eeb982",
   "metadata": {},
   "outputs": [],
   "source": [
    "search_result"
   ]
  }
 ],
 "metadata": {
  "environment": {
   "name": "common-cpu.m78",
   "type": "gcloud",
   "uri": "gcr.io/deeplearning-platform-release/base-cpu:m78"
  },
  "kernelspec": {
   "display_name": "Python 3",
   "language": "python",
   "name": "python3"
  },
  "language_info": {
   "codemirror_mode": {
    "name": "ipython",
    "version": 3
   },
   "file_extension": ".py",
   "mimetype": "text/x-python",
   "name": "python",
   "nbconvert_exporter": "python",
   "pygments_lexer": "ipython3",
   "version": "3.7.10"
  }
 },
 "nbformat": 4,
 "nbformat_minor": 5
}
